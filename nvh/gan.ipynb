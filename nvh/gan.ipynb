{
 "cells": [
  {
   "cell_type": "code",
   "execution_count": 3,
   "metadata": {},
   "outputs": [
    {
     "name": "stdout",
     "output_type": "stream",
     "text": [
      "Requirement already satisfied: pytorch-lightning in d:\\users\\administrator\\anaconda3\\lib\\site-packages (2.0.9)\n",
      "Requirement already satisfied: numpy>=1.17.2 in d:\\users\\administrator\\anaconda3\\lib\\site-packages (from pytorch-lightning) (1.24.3)\n",
      "Requirement already satisfied: torch>=1.11.0 in d:\\users\\administrator\\anaconda3\\lib\\site-packages (from pytorch-lightning) (2.0.1)\n",
      "Requirement already satisfied: tqdm>=4.57.0 in d:\\users\\administrator\\anaconda3\\lib\\site-packages (from pytorch-lightning) (4.65.0)\n",
      "Requirement already satisfied: PyYAML>=5.4 in d:\\users\\administrator\\anaconda3\\lib\\site-packages (from pytorch-lightning) (6.0)\n",
      "Requirement already satisfied: fsspec[http]>2021.06.0 in d:\\users\\administrator\\anaconda3\\lib\\site-packages (from pytorch-lightning) (2023.3.0)\n",
      "Requirement already satisfied: torchmetrics>=0.7.0 in d:\\users\\administrator\\anaconda3\\lib\\site-packages (from pytorch-lightning) (1.2.0)\n",
      "Requirement already satisfied: packaging>=17.1 in d:\\users\\administrator\\anaconda3\\lib\\site-packages (from pytorch-lightning) (23.0)\n",
      "Requirement already satisfied: typing-extensions>=4.0.0 in d:\\users\\administrator\\anaconda3\\lib\\site-packages (from pytorch-lightning) (4.7.1)\n",
      "Requirement already satisfied: lightning-utilities>=0.7.0 in d:\\users\\administrator\\anaconda3\\lib\\site-packages (from pytorch-lightning) (0.9.0)\n",
      "Requirement already satisfied: requests in d:\\users\\administrator\\anaconda3\\lib\\site-packages (from fsspec[http]>2021.06.0->pytorch-lightning) (2.31.0)\n",
      "Requirement already satisfied: aiohttp!=4.0.0a0,!=4.0.0a1 in d:\\users\\administrator\\anaconda3\\lib\\site-packages (from fsspec[http]>2021.06.0->pytorch-lightning) (3.8.3)\n",
      "Requirement already satisfied: filelock in d:\\users\\administrator\\anaconda3\\lib\\site-packages (from torch>=1.11.0->pytorch-lightning) (3.9.0)\n",
      "Requirement already satisfied: sympy in d:\\users\\administrator\\anaconda3\\lib\\site-packages (from torch>=1.11.0->pytorch-lightning) (1.11.1)\n",
      "Requirement already satisfied: networkx in d:\\users\\administrator\\anaconda3\\lib\\site-packages (from torch>=1.11.0->pytorch-lightning) (3.1)\n",
      "Requirement already satisfied: jinja2 in d:\\users\\administrator\\anaconda3\\lib\\site-packages (from torch>=1.11.0->pytorch-lightning) (3.1.2)\n",
      "Requirement already satisfied: colorama in d:\\users\\administrator\\anaconda3\\lib\\site-packages (from tqdm>=4.57.0->pytorch-lightning) (0.4.6)\n",
      "Requirement already satisfied: attrs>=17.3.0 in d:\\users\\administrator\\anaconda3\\lib\\site-packages (from aiohttp!=4.0.0a0,!=4.0.0a1->fsspec[http]>2021.06.0->pytorch-lightning) (22.1.0)\n",
      "Requirement already satisfied: charset-normalizer<3.0,>=2.0 in d:\\users\\administrator\\anaconda3\\lib\\site-packages (from aiohttp!=4.0.0a0,!=4.0.0a1->fsspec[http]>2021.06.0->pytorch-lightning) (2.0.4)\n",
      "Requirement already satisfied: multidict<7.0,>=4.5 in d:\\users\\administrator\\anaconda3\\lib\\site-packages (from aiohttp!=4.0.0a0,!=4.0.0a1->fsspec[http]>2021.06.0->pytorch-lightning) (6.0.2)\n",
      "Requirement already satisfied: async-timeout<5.0,>=4.0.0a3 in d:\\users\\administrator\\anaconda3\\lib\\site-packages (from aiohttp!=4.0.0a0,!=4.0.0a1->fsspec[http]>2021.06.0->pytorch-lightning) (4.0.2)\n",
      "Requirement already satisfied: yarl<2.0,>=1.0 in d:\\users\\administrator\\anaconda3\\lib\\site-packages (from aiohttp!=4.0.0a0,!=4.0.0a1->fsspec[http]>2021.06.0->pytorch-lightning) (1.8.1)\n",
      "Requirement already satisfied: frozenlist>=1.1.1 in d:\\users\\administrator\\anaconda3\\lib\\site-packages (from aiohttp!=4.0.0a0,!=4.0.0a1->fsspec[http]>2021.06.0->pytorch-lightning) (1.3.3)\n",
      "Requirement already satisfied: aiosignal>=1.1.2 in d:\\users\\administrator\\anaconda3\\lib\\site-packages (from aiohttp!=4.0.0a0,!=4.0.0a1->fsspec[http]>2021.06.0->pytorch-lightning) (1.2.0)\n",
      "Requirement already satisfied: MarkupSafe>=2.0 in d:\\users\\administrator\\anaconda3\\lib\\site-packages (from jinja2->torch>=1.11.0->pytorch-lightning) (2.1.1)\n",
      "Requirement already satisfied: idna<4,>=2.5 in d:\\users\\administrator\\anaconda3\\lib\\site-packages (from requests->fsspec[http]>2021.06.0->pytorch-lightning) (3.4)\n",
      "Requirement already satisfied: urllib3<3,>=1.21.1 in d:\\users\\administrator\\anaconda3\\lib\\site-packages (from requests->fsspec[http]>2021.06.0->pytorch-lightning) (1.26.16)\n",
      "Requirement already satisfied: certifi>=2017.4.17 in d:\\users\\administrator\\anaconda3\\lib\\site-packages (from requests->fsspec[http]>2021.06.0->pytorch-lightning) (2023.7.22)\n",
      "Requirement already satisfied: mpmath>=0.19 in d:\\users\\administrator\\anaconda3\\lib\\site-packages (from sympy->torch>=1.11.0->pytorch-lightning) (1.3.0)\n",
      "Note: you may need to restart the kernel to use updated packages.\n",
      "Collecting torchvisionNote: you may need to restart the kernel to use updated packages.\n",
      "\n",
      "  Downloading torchvision-0.15.2-cp311-cp311-win_amd64.whl (1.2 MB)\n",
      "     ---------------------------------------- 0.0/1.2 MB ? eta -:--:--\n",
      "     ---------------------------------------- 0.0/1.2 MB ? eta -:--:--\n",
      "     ---------------------------------------- 0.0/1.2 MB ? eta -:--:--\n",
      "     ---------------------------------------- 0.0/1.2 MB ? eta -:--:--\n",
      "     ---------------------------------------- 0.0/1.2 MB ? eta -:--:--\n",
      "     - -------------------------------------- 0.0/1.2 MB 93.9 kB/s eta 0:00:13\n",
      "     - -------------------------------------- 0.0/1.2 MB 93.9 kB/s eta 0:00:13\n",
      "     - -------------------------------------- 0.0/1.2 MB 109.3 kB/s eta 0:00:11\n",
      "     -- ------------------------------------- 0.1/1.2 MB 149.3 kB/s eta 0:00:08\n",
      "     -- ------------------------------------- 0.1/1.2 MB 149.3 kB/s eta 0:00:08\n",
      "     -- ------------------------------------- 0.1/1.2 MB 149.3 kB/s eta 0:00:08\n",
      "     -- ------------------------------------- 0.1/1.2 MB 149.3 kB/s eta 0:00:08\n",
      "     --- ------------------------------------ 0.1/1.2 MB 149.8 kB/s eta 0:00:08\n",
      "     ---- ----------------------------------- 0.1/1.2 MB 218.6 kB/s eta 0:00:05\n",
      "     ---- ----------------------------------- 0.1/1.2 MB 218.6 kB/s eta 0:00:05\n",
      "     ------ --------------------------------- 0.2/1.2 MB 281.0 kB/s eta 0:00:04\n",
      "     ------- -------------------------------- 0.2/1.2 MB 313.8 kB/s eta 0:00:04\n",
      "     --------- ------------------------------ 0.3/1.2 MB 361.4 kB/s eta 0:00:03\n",
      "     ----------- ---------------------------- 0.3/1.2 MB 388.7 kB/s eta 0:00:03\n",
      "     -------------- ------------------------- 0.4/1.2 MB 460.2 kB/s eta 0:00:02\n",
      "     ---------------- ----------------------- 0.5/1.2 MB 524.6 kB/s eta 0:00:02\n",
      "     ------------------ --------------------- 0.6/1.2 MB 571.2 kB/s eta 0:00:02\n",
      "     ------------------- -------------------- 0.6/1.2 MB 573.4 kB/s eta 0:00:02\n",
      "     ------------------- -------------------- 0.6/1.2 MB 573.4 kB/s eta 0:00:02\n",
      "     ------------------- -------------------- 0.6/1.2 MB 573.4 kB/s eta 0:00:02\n",
      "     ------------------- -------------------- 0.6/1.2 MB 573.4 kB/s eta 0:00:02\n",
      "     --------------------- ------------------ 0.7/1.2 MB 536.3 kB/s eta 0:00:02\n",
      "     -------------------------- ------------- 0.8/1.2 MB 630.8 kB/s eta 0:00:01\n",
      "     --------------------------- ------------ 0.8/1.2 MB 608.8 kB/s eta 0:00:01\n",
      "     -------------------------------- ------- 1.0/1.2 MB 724.3 kB/s eta 0:00:01\n",
      "     ---------------------------------- ----- 1.0/1.2 MB 753.5 kB/s eta 0:00:01\n",
      "     ---------------------------------------  1.2/1.2 MB 830.3 kB/s eta 0:00:01\n",
      "     ---------------------------------------  1.2/1.2 MB 830.3 kB/s eta 0:00:01\n",
      "     ---------------------------------------  1.2/1.2 MB 761.2 kB/s eta 0:00:01\n",
      "     ---------------------------------------- 1.2/1.2 MB 759.0 kB/s eta 0:00:00\n",
      "Requirement already satisfied: numpy in d:\\users\\administrator\\anaconda3\\lib\\site-packages (from torchvision) (1.24.3)\n",
      "Requirement already satisfied: requests in d:\\users\\administrator\\anaconda3\\lib\\site-packages (from torchvision) (2.31.0)\n",
      "Requirement already satisfied: torch==2.0.1 in d:\\users\\administrator\\anaconda3\\lib\\site-packages (from torchvision) (2.0.1)\n",
      "Requirement already satisfied: pillow!=8.3.*,>=5.3.0 in d:\\users\\administrator\\anaconda3\\lib\\site-packages (from torchvision) (9.4.0)\n",
      "Requirement already satisfied: filelock in d:\\users\\administrator\\anaconda3\\lib\\site-packages (from torch==2.0.1->torchvision) (3.9.0)\n",
      "Requirement already satisfied: typing-extensions in d:\\users\\administrator\\anaconda3\\lib\\site-packages (from torch==2.0.1->torchvision) (4.7.1)\n",
      "Requirement already satisfied: sympy in d:\\users\\administrator\\anaconda3\\lib\\site-packages (from torch==2.0.1->torchvision) (1.11.1)\n",
      "Requirement already satisfied: networkx in d:\\users\\administrator\\anaconda3\\lib\\site-packages (from torch==2.0.1->torchvision) (3.1)\n",
      "Requirement already satisfied: jinja2 in d:\\users\\administrator\\anaconda3\\lib\\site-packages (from torch==2.0.1->torchvision) (3.1.2)\n",
      "Requirement already satisfied: charset-normalizer<4,>=2 in d:\\users\\administrator\\anaconda3\\lib\\site-packages (from requests->torchvision) (2.0.4)\n",
      "Requirement already satisfied: idna<4,>=2.5 in d:\\users\\administrator\\anaconda3\\lib\\site-packages (from requests->torchvision) (3.4)\n",
      "Requirement already satisfied: urllib3<3,>=1.21.1 in d:\\users\\administrator\\anaconda3\\lib\\site-packages (from requests->torchvision) (1.26.16)\n",
      "Requirement already satisfied: certifi>=2017.4.17 in d:\\users\\administrator\\anaconda3\\lib\\site-packages (from requests->torchvision) (2023.7.22)\n",
      "Requirement already satisfied: MarkupSafe>=2.0 in d:\\users\\administrator\\anaconda3\\lib\\site-packages (from jinja2->torch==2.0.1->torchvision) (2.1.1)\n",
      "Requirement already satisfied: mpmath>=0.19 in d:\\users\\administrator\\anaconda3\\lib\\site-packages (from sympy->torch==2.0.1->torchvision) (1.3.0)\n",
      "Installing collected packages: torchvision\n",
      "Successfully installed torchvision-0.15.2\n"
     ]
    }
   ],
   "source": [
    "%pip install pytorch-lightning\n",
    "%pip install torchvision"
   ]
  },
  {
   "cell_type": "code",
   "execution_count": 1,
   "metadata": {},
   "outputs": [
    {
     "ename": "",
     "evalue": "",
     "output_type": "error",
     "traceback": [
      "\u001b[1;31mThe Kernel crashed while executing code in the the current cell or a previous cell. Please review the code in the cell(s) to identify a possible cause of the failure. Click <a href='https://aka.ms/vscodeJupyterKernelCrash'>here</a> for more info. View Jupyter <a href='command:jupyter.viewOutput'>log</a> for further details."
     ]
    }
   ],
   "source": [
    "import os\n",
    "import torch\n",
    "import torchvision\n",
    "import torch.nn as nn\n",
    "import torch.nn.functional as F\n",
    "import torchvision.transforms as transforms\n",
    "import torchvision.datasets as datasets\n",
    "from torch.utils.data import DataLoader, random_split\n",
    "from torchvision.datasets import MNIST\n",
    "import matplotlib.pyplot as plt\n",
    "import pytorch_lightning as pl"
   ]
  },
  {
   "cell_type": "code",
   "execution_count": null,
   "metadata": {},
   "outputs": [],
   "source": [
    "random_seed = 42\n",
    "torch.manual_seed(random_seed)\n",
    "\n",
    "# Hyperparameters\n",
    "batch_size = 128\n",
    "available_gpus = min(1, torch.cuda.device_count())\n",
    "num_workers = int(os.cpu_count() / available_gpus)"
   ]
  },
  {
   "cell_type": "code",
   "execution_count": null,
   "metadata": {},
   "outputs": [],
   "source": []
  }
 ],
 "metadata": {
  "kernelspec": {
   "display_name": "base",
   "language": "python",
   "name": "python3"
  },
  "language_info": {
   "codemirror_mode": {
    "name": "ipython",
    "version": 3
   },
   "file_extension": ".py",
   "mimetype": "text/x-python",
   "name": "python",
   "nbconvert_exporter": "python",
   "pygments_lexer": "ipython3",
   "version": "3.11.4"
  },
  "orig_nbformat": 4
 },
 "nbformat": 4,
 "nbformat_minor": 2
}
