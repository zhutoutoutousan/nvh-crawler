{
 "cells": [
  {
   "cell_type": "code",
   "execution_count": 1,
   "metadata": {},
   "outputs": [],
   "source": [
    "noise = [\n",
    "    'weird engine sound',\n",
    "    'engine buzzing/farting sound',\n",
    "    'car engine noise',\n",
    "    'Engine knocking',\n",
    "    'Engine bad sound',\n",
    "    'Engine Whining Noise',\n",
    "    'engine blown sounds',\n",
    "    'engine tick sound',\n",
    "    'engine Clicking Noise',\n",
    "    'engine rattle noise',\n",
    "    'engine Ticking Noise',\n",
    "]"
   ]
  }
 ],
 "metadata": {
  "kernelspec": {
   "display_name": "Python 3",
   "language": "python",
   "name": "python3"
  },
  "language_info": {
   "name": "python",
   "version": "3.11.0"
  },
  "orig_nbformat": 4
 },
 "nbformat": 4,
 "nbformat_minor": 2
}
